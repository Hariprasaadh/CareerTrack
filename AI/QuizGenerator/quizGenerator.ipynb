{
 "cells": [
  {
   "cell_type": "code",
   "execution_count": 1,
   "metadata": {},
   "outputs": [
    {
     "data": {
      "text/plain": [
       "True"
      ]
     },
     "execution_count": 1,
     "metadata": {},
     "output_type": "execute_result"
    }
   ],
   "source": [
    "from dotenv import load_dotenv\n",
    "load_dotenv()"
   ]
  },
  {
   "cell_type": "code",
   "execution_count": 2,
   "metadata": {},
   "outputs": [],
   "source": [
    "import os\n",
    "GROQ_API_KEY = os.getenv(\"GROQCLOUD_API\")"
   ]
  },
  {
   "cell_type": "code",
   "execution_count": 3,
   "metadata": {},
   "outputs": [],
   "source": [
    "from langchain_groq import ChatGroq\n",
    "llm=ChatGroq(\n",
    "    model_name=\"llama-3.1-70b-versatile\",\n",
    "    temperature=0.3,\n",
    "    groq_api_key=GROQ_API_KEY\n",
    ")"
   ]
  },
  {
   "cell_type": "code",
   "execution_count": 4,
   "metadata": {},
   "outputs": [
    {
     "data": {
      "text/plain": [
       "AIMessage(content='How can I assist you today?', additional_kwargs={}, response_metadata={'token_usage': {'completion_tokens': 8, 'prompt_tokens': 36, 'total_tokens': 44, 'completion_time': 0.032, 'prompt_time': 0.006213031, 'queue_time': 0.007555569000000001, 'total_time': 0.038213031}, 'model_name': 'llama-3.1-70b-versatile', 'system_fingerprint': 'fp_b6828be2c9', 'finish_reason': 'stop', 'logprobs': None}, id='run-c601db8e-302a-4f12-8245-84de43023a05-0', usage_metadata={'input_tokens': 36, 'output_tokens': 8, 'total_tokens': 44})"
      ]
     },
     "execution_count": 4,
     "metadata": {},
     "output_type": "execute_result"
    }
   ],
   "source": [
    "llm.invoke(\"HI\")"
   ]
  },
  {
   "cell_type": "code",
   "execution_count": 5,
   "metadata": {},
   "outputs": [],
   "source": [
    "text_content=\"\"\"\n",
    "\n",
    "Electric Field and Potential:\n",
    "\n",
    "An electric field is a region around a charged particle or object within which a force is exerted on other charged particles or objects. The electric field E at a point is defined as the force F experienced by a small positive test charge q₀ placed at that point, divided by the magnitude of the charge:\n",
    "\n",
    "E = F / q₀\n",
    "\n",
    "The electric potential at a point is the work done in bringing a unit positive charge from infinity to that point without any acceleration. It is denoted by V, and its unit is volts (V).\n",
    "\n",
    "For a point charge Q, the electric potential V at a distance r from the charge is given by:\n",
    "\n",
    "V = kQ / r\n",
    "\n",
    "where k = 1 / 4πε₀ is the electrostatic constant, and ε₀ is the permittivity of free space.\n",
    "\n",
    "\"\"\"\n",
    "\n",
    "\n",
    "quiz_level=\"Medium\"\n",
    "\n",
    "RESPONSE_JSON = {\n",
    "      \"mcqs\" : [\n",
    "        {\n",
    "            \"mcq\": \"multiple choice question1\",\n",
    "            \"options\": {\n",
    "                \"a\": \"choice here1\",\n",
    "                \"b\": \"choice here2\",\n",
    "                \"c\": \"choice here3\",\n",
    "                \"d\": \"choice here4\",\n",
    "            },\n",
    "            \"correct\": \"correct choice option in the form of a, b, c or d\",\n",
    "        },\n",
    "        {\n",
    "            \"mcq\": \"multiple choice question\",\n",
    "            \"options\": {\n",
    "                \"a\": \"choice here\",\n",
    "                \"b\": \"choice here\",\n",
    "                \"c\": \"choice here\",\n",
    "                \"d\": \"choice here\",\n",
    "            },\n",
    "            \"correct\": \"correct choice option in the form of a, b, c or d\",\n",
    "        },\n",
    "        {\n",
    "            \"mcq\": \"multiple choice question\",\n",
    "            \"options\": {\n",
    "                \"a\": \"choice here\",\n",
    "                \"b\": \"choice here\",\n",
    "                \"c\": \"choice here\",\n",
    "                \"d\": \"choice here\",\n",
    "            },\n",
    "            \"correct\": \"correct choice option in the form of a, b, c or d\",\n",
    "        },\n",
    "        {\n",
    "            \"mcq\": \"multiple choice question\",\n",
    "            \"options\": {\n",
    "                \"a\": \"choice here\",\n",
    "                \"b\": \"choice here\",\n",
    "                \"c\": \"choice here\",\n",
    "                \"d\": \"choice here\",\n",
    "            },\n",
    "            \"correct\": \"correct choice option in the form of a, b, c or d\",\n",
    "        },\n",
    "        {\n",
    "            \"mcq\": \"multiple choice question\",\n",
    "            \"options\": {\n",
    "                \"a\": \"choice here\",\n",
    "                \"b\": \"choice here\",\n",
    "                \"c\": \"choice here\",\n",
    "                \"d\": \"choice here\",\n",
    "            },\n",
    "            \"correct\": \"correct choice option in the form of a, b, c or d\"\n",
    "        }\n",
    "      ]\n",
    "    }"
   ]
  },
  {
   "cell_type": "code",
   "execution_count": 6,
   "metadata": {},
   "outputs": [],
   "source": [
    "from langchain_core.prompts import PromptTemplate\n",
    "prompt_extract = PromptTemplate.from_template(\n",
    "     \"\"\"\n",
    "    Text: {text_content}\n",
    "    You are an expert in generating MCQ type quizzes on the basis of provided content to help students study easily. \n",
    "    Given the above text, create a quiz of 5 multiple choice questions keeping difficulty level as {quiz_level}. \n",
    "    Make sure the questions are not repeated and check all the questions to be conforming the text as well.\n",
    "    Make sure to format your response like RESPONSE_JSON below and use it as a guide.\n",
    "    Ensure to make an array of 5 MCQs referring to the following response JSON.\n",
    "    Return the JSON response only as double quotes not as single qoutes. Keep the response in double quotes.\n",
    "    Here is the RESPONSE_JSON:\n",
    "\n",
    "    {RESPONSE_JSON}   \n",
    "    \"\"\"\n",
    ")\n"
   ]
  },
  {
   "cell_type": "code",
   "execution_count": 7,
   "metadata": {},
   "outputs": [],
   "source": [
    "chain_ques=prompt_extract|llm"
   ]
  },
  {
   "cell_type": "code",
   "execution_count": 8,
   "metadata": {},
   "outputs": [
    {
     "name": "stdout",
     "output_type": "stream",
     "text": [
      "{\"mcqs\": [\n",
      "{\"mcq\": \"What is the definition of an electric field?\", \n",
      "\"options\": {\"a\": \"A region around a charged particle or object within which a force is exerted on other charged particles or objects\", \n",
      "\"b\": \"The work done in bringing a unit positive charge from infinity to a point without any acceleration\", \n",
      "\"c\": \"The force experienced by a small positive test charge placed at a point\", \n",
      "\"d\": \"The electric potential at a point\"}, \n",
      "\"correct\": \"a\"}, \n",
      "\n",
      "{\"mcq\": \"What is the unit of electric potential?\", \n",
      "\"options\": {\"a\": \"Newtons\", \n",
      "\"b\": \"Volts\", \n",
      "\"c\": \"Coulombs\", \n",
      "\"d\": \"Joules\"}, \n",
      "\"correct\": \"b\"}, \n",
      "\n",
      "{\"mcq\": \"What is the formula for electric potential V at a distance r from a point charge Q?\", \n",
      "\"options\": {\"a\": \"V = kQr\", \n",
      "\"b\": \"V = kQ / r\", \n",
      "\"c\": \"V = k / Qr\", \n",
      "\"d\": \"V = k / rQ\"}, \n",
      "\"correct\": \"b\"}, \n",
      "\n",
      "{\"mcq\": \"What is the electrostatic constant k in terms of ε₀?\", \n",
      "\"options\": {\"a\": \"k = 4πε₀\", \n",
      "\"b\": \"k = 1 / 4πε₀\", \n",
      "\"c\": \"k = ε₀\", \n",
      "\"d\": \"k = 1 / ε₀\"}, \n",
      "\"correct\": \"b\"}, \n",
      "\n",
      "{\"mcq\": \"What is the electric field E at a point defined as?\", \n",
      "\"options\": {\"a\": \"The force F experienced by a small positive test charge q₀ placed at that point\", \n",
      "\"b\": \"The force F experienced by a small positive test charge q₀ placed at that point, divided by the magnitude of the charge\", \n",
      "\"c\": \"The work done in bringing a unit positive charge from infinity to that point without any acceleration\", \n",
      "\"d\": \"The electric potential at a point\"}, \n",
      "\"correct\": \"b\"} \n",
      "]}\n"
     ]
    }
   ],
   "source": [
    "res=chain_ques.invoke(input={'text_content':text_content,'quiz_level':quiz_level,'RESPONSE_JSON':RESPONSE_JSON})\n",
    "print(res.content)"
   ]
  },
  {
   "cell_type": "code",
   "execution_count": 9,
   "metadata": {},
   "outputs": [
    {
     "data": {
      "text/plain": [
       "str"
      ]
     },
     "execution_count": 9,
     "metadata": {},
     "output_type": "execute_result"
    }
   ],
   "source": [
    "type(res.content)"
   ]
  },
  {
   "cell_type": "code",
   "execution_count": 10,
   "metadata": {},
   "outputs": [
    {
     "name": "stdout",
     "output_type": "stream",
     "text": [
      "{'mcqs': [{'mcq': 'What is the definition of an electric field?', 'options': {'a': 'A region around a charged particle or object within which a force is exerted on other charged particles or objects', 'b': 'The work done in bringing a unit positive charge from infinity to a point without any acceleration', 'c': 'The force experienced by a small positive test charge placed at a point', 'd': 'The electric potential at a point'}, 'correct': 'a'}, {'mcq': 'What is the unit of electric potential?', 'options': {'a': 'Newtons', 'b': 'Volts', 'c': 'Coulombs', 'd': 'Joules'}, 'correct': 'b'}, {'mcq': 'What is the formula for electric potential V at a distance r from a point charge Q?', 'options': {'a': 'V = kQr', 'b': 'V = kQ / r', 'c': 'V = k / Qr', 'd': 'V = k / rQ'}, 'correct': 'b'}, {'mcq': 'What is the electrostatic constant k in terms of ε₀?', 'options': {'a': 'k = 4πε₀', 'b': 'k = 1 / 4πε₀', 'c': 'k = ε₀', 'd': 'k = 1 / ε₀'}, 'correct': 'b'}, {'mcq': 'What is the electric field E at a point defined as?', 'options': {'a': 'The force F experienced by a small positive test charge q₀ placed at that point', 'b': 'The force F experienced by a small positive test charge q₀ placed at that point, divided by the magnitude of the charge', 'c': 'The work done in bringing a unit positive charge from infinity to that point without any acceleration', 'd': 'The electric potential at a point'}, 'correct': 'b'}]}\n"
     ]
    }
   ],
   "source": [
    "from langchain_core.output_parsers import JsonOutputParser\n",
    "json_parser=JsonOutputParser()\n",
    "json_res=json_parser.parse(res.content)\n",
    "print(json_res)"
   ]
  },
  {
   "cell_type": "code",
   "execution_count": 11,
   "metadata": {},
   "outputs": [
    {
     "data": {
      "text/plain": [
       "dict"
      ]
     },
     "execution_count": 11,
     "metadata": {},
     "output_type": "execute_result"
    }
   ],
   "source": [
    "type(json_res)"
   ]
  }
 ],
 "metadata": {
  "kernelspec": {
   "display_name": "Python 3",
   "language": "python",
   "name": "python3"
  },
  "language_info": {
   "codemirror_mode": {
    "name": "ipython",
    "version": 3
   },
   "file_extension": ".py",
   "mimetype": "text/x-python",
   "name": "python",
   "nbconvert_exporter": "python",
   "pygments_lexer": "ipython3",
   "version": "3.9.21"
  }
 },
 "nbformat": 4,
 "nbformat_minor": 2
}
